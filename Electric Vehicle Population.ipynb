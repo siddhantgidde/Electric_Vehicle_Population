{
    "metadata": {
        "kernelspec": {
            "name": "SQL",
            "display_name": "SQL",
            "language": "sql"
        },
        "language_info": {
            "name": "sql",
            "version": ""
        }
    },
    "nbformat_minor": 2,
    "nbformat": 4,
    "cells": [
        {
            "cell_type": "markdown",
            "source": [
                "# **Project 2 Electric Vehicle Population**"
            ],
            "metadata": {
                "azdata_cell_guid": "8b5188ba-b5b0-482d-883e-2f793a33b4a5"
            },
            "attachments": {}
        },
        {
            "cell_type": "markdown",
            "source": [
                "## 1\\. How many vehicles are registered through the Washington State Department of Licensing (DOL) from 1997 to 2023?"
            ],
            "metadata": {
                "azdata_cell_guid": "bca83a75-c332-4b0c-84a8-d60db2a0d8af"
            },
            "attachments": {}
        },
        {
            "cell_type": "code",
            "source": [
                "SELECT COUNT(*) AS Vehicles_registered\r\n",
                "FROM Electric_Vehicle_Population"
            ],
            "metadata": {
                "azdata_cell_guid": "e20a35ee-6e0f-426c-b76a-9812b495cf5e",
                "language": "sql"
            },
            "outputs": [
                {
                    "output_type": "display_data",
                    "data": {
                        "text/html": "(1 row affected)"
                    },
                    "metadata": {}
                },
                {
                    "output_type": "display_data",
                    "data": {
                        "text/html": "Total execution time: 00:00:14.048"
                    },
                    "metadata": {}
                },
                {
                    "output_type": "execute_result",
                    "metadata": {},
                    "execution_count": 9,
                    "data": {
                        "application/vnd.dataresource+json": {
                            "schema": {
                                "fields": [
                                    {
                                        "name": "Vehicles_registered"
                                    }
                                ]
                            },
                            "data": [
                                {
                                    "Vehicles_registered": "159463"
                                }
                            ]
                        },
                        "text/html": [
                            "<table>",
                            "<tr><th>Vehicles_registered</th></tr>",
                            "<tr><td>159463</td></tr>",
                            "</table>"
                        ]
                    }
                }
            ],
            "execution_count": 9
        },
        {
            "cell_type": "markdown",
            "source": [
                "## 2\\. What is the population of BEV and PHEV electric vehicles?"
            ],
            "metadata": {
                "language": "sql",
                "azdata_cell_guid": "8c07ec2d-e5be-42d6-918e-fbc7a3868345"
            },
            "attachments": {}
        },
        {
            "cell_type": "code",
            "source": [
                "SELECT COUNT(*) AS Vehicle_Population, Electric_Vehicle_type\r\n",
                "FROM Electric_Vehicle_Population\r\n",
                "GROUP BY Electric_Vehicle_type\r\n",
                "ORDER BY Vehicle_Population DESC"
            ],
            "metadata": {
                "language": "sql",
                "azdata_cell_guid": "db1a91fb-36b5-49e0-b829-b63b965ca244"
            },
            "outputs": [
                {
                    "output_type": "display_data",
                    "data": {
                        "text/html": "(2 rows affected)"
                    },
                    "metadata": {}
                },
                {
                    "output_type": "display_data",
                    "data": {
                        "text/html": "Total execution time: 00:00:07.782"
                    },
                    "metadata": {}
                },
                {
                    "output_type": "execute_result",
                    "metadata": {},
                    "execution_count": 10,
                    "data": {
                        "application/vnd.dataresource+json": {
                            "schema": {
                                "fields": [
                                    {
                                        "name": "Vehicle_Population"
                                    },
                                    {
                                        "name": "Electric_Vehicle_type"
                                    }
                                ]
                            },
                            "data": [
                                {
                                    "Vehicle_Population": "124149",
                                    "Electric_Vehicle_type": "Battery Electric Vehicle (BEV)"
                                },
                                {
                                    "Vehicle_Population": "35314",
                                    "Electric_Vehicle_type": "Plug-in Hybrid Electric Vehicle (PHEV)"
                                }
                            ]
                        },
                        "text/html": [
                            "<table>",
                            "<tr><th>Vehicle_Population</th><th>Electric_Vehicle_type</th></tr>",
                            "<tr><td>124149</td><td>Battery Electric Vehicle (BEV)</td></tr>",
                            "<tr><td>35314</td><td>Plug-in Hybrid Electric Vehicle (PHEV)</td></tr>",
                            "</table>"
                        ]
                    }
                }
            ],
            "execution_count": 10
        },
        {
            "cell_type": "markdown",
            "source": [
                "## 3\\. What are the top 5 county by vehicle population?"
            ],
            "metadata": {
                "language": "sql",
                "azdata_cell_guid": "78fc2845-7058-4d23-b16a-ac2a1a789fee"
            },
            "attachments": {}
        },
        {
            "cell_type": "code",
            "source": [
                "SELECT TOP 5 COUNT(*) AS Vehicle_Population,county\r\n",
                "FROM Electric_Vehicle_Population\r\n",
                "GROUP BY county\r\n",
                "ORDER BY Vehicle_Population DESC"
            ],
            "metadata": {
                "language": "sql",
                "azdata_cell_guid": "b996c4b7-d5d8-4efb-931c-8bf4e5d30e7b"
            },
            "outputs": [
                {
                    "output_type": "display_data",
                    "data": {
                        "text/html": "(5 rows affected)"
                    },
                    "metadata": {}
                },
                {
                    "output_type": "display_data",
                    "data": {
                        "text/html": "Total execution time: 00:00:00.118"
                    },
                    "metadata": {}
                },
                {
                    "output_type": "execute_result",
                    "metadata": {},
                    "execution_count": 11,
                    "data": {
                        "application/vnd.dataresource+json": {
                            "schema": {
                                "fields": [
                                    {
                                        "name": "Vehicle_Population"
                                    },
                                    {
                                        "name": "county"
                                    }
                                ]
                            },
                            "data": [
                                {
                                    "Vehicle_Population": "83413",
                                    "county": "King"
                                },
                                {
                                    "Vehicle_Population": "18544",
                                    "county": "Snohomish"
                                },
                                {
                                    "Vehicle_Population": "12315",
                                    "county": "Pierce"
                                },
                                {
                                    "Vehicle_Population": "9370",
                                    "county": "Clark"
                                },
                                {
                                    "Vehicle_Population": "5711",
                                    "county": "Thurston"
                                }
                            ]
                        },
                        "text/html": [
                            "<table>",
                            "<tr><th>Vehicle_Population</th><th>county</th></tr>",
                            "<tr><td>83413</td><td>King</td></tr>",
                            "<tr><td>18544</td><td>Snohomish</td></tr>",
                            "<tr><td>12315</td><td>Pierce</td></tr>",
                            "<tr><td>9370</td><td>Clark</td></tr>",
                            "<tr><td>5711</td><td>Thurston</td></tr>",
                            "</table>"
                        ]
                    }
                }
            ],
            "execution_count": 11
        },
        {
            "cell_type": "markdown",
            "source": [
                "## 4\\. Which vehicle model has the highest population?"
            ],
            "metadata": {
                "language": "sql",
                "azdata_cell_guid": "9ebe056a-3b2a-4fc6-8155-8d816cb7f1ca"
            },
            "attachments": {}
        },
        {
            "cell_type": "code",
            "source": [
                "SELECT TOP 5 Count(*) AS Vehicle_Population, Model\r\n",
                "FROM Electric_Vehicle_Population\r\n",
                "GROUP BY Model\r\n",
                "ORDER BY Vehicle_Population DESC"
            ],
            "metadata": {
                "language": "sql",
                "azdata_cell_guid": "e8f944fb-8b8d-4046-95df-bf53d39a659f"
            },
            "outputs": [
                {
                    "output_type": "display_data",
                    "data": {
                        "text/html": "(5 rows affected)"
                    },
                    "metadata": {}
                },
                {
                    "output_type": "display_data",
                    "data": {
                        "text/html": "Total execution time: 00:00:03.787"
                    },
                    "metadata": {}
                },
                {
                    "output_type": "execute_result",
                    "metadata": {},
                    "execution_count": 12,
                    "data": {
                        "application/vnd.dataresource+json": {
                            "schema": {
                                "fields": [
                                    {
                                        "name": "Vehicle_Population"
                                    },
                                    {
                                        "name": "Model"
                                    }
                                ]
                            },
                            "data": [
                                {
                                    "Vehicle_Population": "30841",
                                    "Model": "MODEL Y"
                                },
                                {
                                    "Vehicle_Population": "28588",
                                    "Model": "MODEL 3"
                                },
                                {
                                    "Vehicle_Population": "13310",
                                    "Model": "LEAF"
                                },
                                {
                                    "Vehicle_Population": "7649",
                                    "Model": "MODEL S"
                                },
                                {
                                    "Vehicle_Population": "6112",
                                    "Model": "BOLT EV"
                                }
                            ]
                        },
                        "text/html": [
                            "<table>",
                            "<tr><th>Vehicle_Population</th><th>Model</th></tr>",
                            "<tr><td>30841</td><td>MODEL Y</td></tr>",
                            "<tr><td>28588</td><td>MODEL 3</td></tr>",
                            "<tr><td>13310</td><td>LEAF</td></tr>",
                            "<tr><td>7649</td><td>MODEL S</td></tr>",
                            "<tr><td>6112</td><td>BOLT EV</td></tr>",
                            "</table>"
                        ]
                    }
                }
            ],
            "execution_count": 12
        },
        {
            "cell_type": "markdown",
            "source": [
                "## 5\\. Which brand has the highest vehicle population?"
            ],
            "metadata": {
                "language": "sql",
                "azdata_cell_guid": "160eee52-c843-4f5c-afa6-f3e85f38c709"
            },
            "attachments": {}
        },
        {
            "cell_type": "code",
            "source": [
                "SELECT TOP 5 COUNT(*) AS Vehicle_Population,Make AS Brand\r\n",
                "FROM Electric_Vehicle_Population\r\n",
                "GROUP BY Make\r\n",
                "ORDER BY Vehicle_Population DESC"
            ],
            "metadata": {
                "language": "sql",
                "azdata_cell_guid": "35eddfa6-7ce4-4ec4-9691-77c2ce030588"
            },
            "outputs": [
                {
                    "output_type": "display_data",
                    "data": {
                        "text/html": "(5 rows affected)"
                    },
                    "metadata": {}
                },
                {
                    "output_type": "display_data",
                    "data": {
                        "text/html": "Total execution time: 00:00:00.102"
                    },
                    "metadata": {}
                },
                {
                    "output_type": "execute_result",
                    "metadata": {},
                    "execution_count": 14,
                    "data": {
                        "application/vnd.dataresource+json": {
                            "schema": {
                                "fields": [
                                    {
                                        "name": "Vehicle_Population"
                                    },
                                    {
                                        "name": "Brand"
                                    }
                                ]
                            },
                            "data": [
                                {
                                    "Vehicle_Population": "72442",
                                    "Brand": "TESLA"
                                },
                                {
                                    "Vehicle_Population": "13794",
                                    "Brand": "NISSAN"
                                },
                                {
                                    "Vehicle_Population": "12568",
                                    "Brand": "CHEVROLET"
                                },
                                {
                                    "Vehicle_Population": "8009",
                                    "Brand": "FORD"
                                },
                                {
                                    "Vehicle_Population": "6842",
                                    "Brand": "BMW"
                                }
                            ]
                        },
                        "text/html": [
                            "<table>",
                            "<tr><th>Vehicle_Population</th><th>Brand</th></tr>",
                            "<tr><td>72442</td><td>TESLA</td></tr>",
                            "<tr><td>13794</td><td>NISSAN</td></tr>",
                            "<tr><td>12568</td><td>CHEVROLET</td></tr>",
                            "<tr><td>8009</td><td>FORD</td></tr>",
                            "<tr><td>6842</td><td>BMW</td></tr>",
                            "</table>"
                        ]
                    }
                }
            ],
            "execution_count": 14
        },
        {
            "cell_type": "markdown",
            "source": [
                "## 6\\. Which city has the highest vehicle population?"
            ],
            "metadata": {
                "language": "sql",
                "azdata_cell_guid": "c9fad4c9-d23d-4130-a691-ad3b9a44ec2d"
            },
            "attachments": {}
        },
        {
            "cell_type": "code",
            "source": [
                "SELECT TOP 5 COUNT(*) AS Vehicle_Population,City\r\n",
                "FROM Electric_Vehicle_Population\r\n",
                "GROUP BY City\r\n",
                "ORDER BY Vehicle_Population DESC"
            ],
            "metadata": {
                "language": "sql",
                "azdata_cell_guid": "7aafae7d-485e-43bf-be27-be6d7ab74b9d"
            },
            "outputs": [
                {
                    "output_type": "display_data",
                    "data": {
                        "text/html": "(5 rows affected)"
                    },
                    "metadata": {}
                },
                {
                    "output_type": "display_data",
                    "data": {
                        "text/html": "Total execution time: 00:00:01.397"
                    },
                    "metadata": {}
                },
                {
                    "output_type": "execute_result",
                    "metadata": {},
                    "execution_count": 15,
                    "data": {
                        "application/vnd.dataresource+json": {
                            "schema": {
                                "fields": [
                                    {
                                        "name": "Vehicle_Population"
                                    },
                                    {
                                        "name": "City"
                                    }
                                ]
                            },
                            "data": [
                                {
                                    "Vehicle_Population": "26932",
                                    "City": "Seattle"
                                },
                                {
                                    "Vehicle_Population": "8076",
                                    "City": "Bellevue"
                                },
                                {
                                    "Vehicle_Population": "5796",
                                    "City": "Redmond"
                                },
                                {
                                    "Vehicle_Population": "5599",
                                    "City": "Vancouver"
                                },
                                {
                                    "Vehicle_Population": "5176",
                                    "City": "Bothell"
                                }
                            ]
                        },
                        "text/html": [
                            "<table>",
                            "<tr><th>Vehicle_Population</th><th>City</th></tr>",
                            "<tr><td>26932</td><td>Seattle</td></tr>",
                            "<tr><td>8076</td><td>Bellevue</td></tr>",
                            "<tr><td>5796</td><td>Redmond</td></tr>",
                            "<tr><td>5599</td><td>Vancouver</td></tr>",
                            "<tr><td>5176</td><td>Bothell</td></tr>",
                            "</table>"
                        ]
                    }
                }
            ],
            "execution_count": 15
        },
        {
            "cell_type": "markdown",
            "source": [
                "## 7. What are the top 5 electric vehicle models with the highest range?"
            ],
            "metadata": {
                "language": "sql",
                "azdata_cell_guid": "6cdc11c0-0c42-4a98-aedb-29cfa263d5f5"
            },
            "attachments": {}
        },
        {
            "cell_type": "code",
            "source": [
                "SELECT Top 5 Model, Electric_Range\r\n",
                "FROM Electric_Vehicle_Population\r\n",
                "GROUP BY Electric_Range, Model\r\n",
                "ORDER BY Electric_Range DESC"
            ],
            "metadata": {
                "language": "sql",
                "azdata_cell_guid": "45ffeb73-f0be-467d-a29a-58d9ad6a5547"
            },
            "outputs": [
                {
                    "output_type": "display_data",
                    "data": {
                        "text/html": "(5 rows affected)"
                    },
                    "metadata": {}
                },
                {
                    "output_type": "display_data",
                    "data": {
                        "text/html": "Total execution time: 00:00:00.095"
                    },
                    "metadata": {}
                },
                {
                    "output_type": "execute_result",
                    "metadata": {},
                    "execution_count": 16,
                    "data": {
                        "application/vnd.dataresource+json": {
                            "schema": {
                                "fields": [
                                    {
                                        "name": "Model"
                                    },
                                    {
                                        "name": "Electric_Range"
                                    }
                                ]
                            },
                            "data": [
                                {
                                    "Model": "MODEL S",
                                    "Electric_Range": "337"
                                },
                                {
                                    "Model": "MODEL S",
                                    "Electric_Range": "330"
                                },
                                {
                                    "Model": "MODEL 3",
                                    "Electric_Range": "322"
                                },
                                {
                                    "Model": "MODEL 3",
                                    "Electric_Range": "308"
                                },
                                {
                                    "Model": "MODEL X",
                                    "Electric_Range": "293"
                                }
                            ]
                        },
                        "text/html": [
                            "<table>",
                            "<tr><th>Model</th><th>Electric_Range</th></tr>",
                            "<tr><td>MODEL S</td><td>337</td></tr>",
                            "<tr><td>MODEL S</td><td>330</td></tr>",
                            "<tr><td>MODEL 3</td><td>322</td></tr>",
                            "<tr><td>MODEL 3</td><td>308</td></tr>",
                            "<tr><td>MODEL X</td><td>293</td></tr>",
                            "</table>"
                        ]
                    }
                }
            ],
            "execution_count": 16
        },
        {
            "cell_type": "markdown",
            "source": [
                "## 8. What is the vehicle population by vehicle model year from 1997 to 2023?"
            ],
            "metadata": {
                "language": "sql",
                "azdata_cell_guid": "1ace2b25-ed3f-44bf-96bc-f8167644f2b2"
            },
            "attachments": {}
        },
        {
            "cell_type": "code",
            "source": [
                "SELECT COUNT(*) AS Vehicle_Population,Model_Year\r\n",
                "FROM Electric_Vehicle_Population\r\n",
                "GROUP BY Model_Year\r\n",
                "ORDER BY Vehicle_Population DESC"
            ],
            "metadata": {
                "language": "sql",
                "azdata_cell_guid": "c15b15a3-1f83-40f2-9a82-7a1582adcf3b"
            },
            "outputs": [
                {
                    "output_type": "display_data",
                    "data": {
                        "text/html": "(22 rows affected)"
                    },
                    "metadata": {}
                },
                {
                    "output_type": "display_data",
                    "data": {
                        "text/html": "Total execution time: 00:00:03.845"
                    },
                    "metadata": {}
                },
                {
                    "output_type": "execute_result",
                    "metadata": {},
                    "execution_count": 17,
                    "data": {
                        "application/vnd.dataresource+json": {
                            "schema": {
                                "fields": [
                                    {
                                        "name": "Vehicle_Population"
                                    },
                                    {
                                        "name": "Model_Year"
                                    }
                                ]
                            },
                            "data": [
                                {
                                    "Vehicle_Population": "45244",
                                    "Model_Year": "2023"
                                },
                                {
                                    "Vehicle_Population": "27680",
                                    "Model_Year": "2022"
                                },
                                {
                                    "Vehicle_Population": "18737",
                                    "Model_Year": "2021"
                                },
                                {
                                    "Vehicle_Population": "14327",
                                    "Model_Year": "2018"
                                },
                                {
                                    "Vehicle_Population": "11394",
                                    "Model_Year": "2020"
                                },
                                {
                                    "Vehicle_Population": "10729",
                                    "Model_Year": "2019"
                                },
                                {
                                    "Vehicle_Population": "8576",
                                    "Model_Year": "2017"
                                },
                                {
                                    "Vehicle_Population": "5604",
                                    "Model_Year": "2016"
                                },
                                {
                                    "Vehicle_Population": "4897",
                                    "Model_Year": "2015"
                                },
                                {
                                    "Vehicle_Population": "4515",
                                    "Model_Year": "2013"
                                },
                                {
                                    "Vehicle_Population": "3561",
                                    "Model_Year": "2014"
                                },
                                {
                                    "Vehicle_Population": "1714",
                                    "Model_Year": "2024"
                                },
                                {
                                    "Vehicle_Population": "1645",
                                    "Model_Year": "2012"
                                },
                                {
                                    "Vehicle_Population": "780",
                                    "Model_Year": "2011"
                                },
                                {
                                    "Vehicle_Population": "24",
                                    "Model_Year": "2010"
                                },
                                {
                                    "Vehicle_Population": "20",
                                    "Model_Year": "2008"
                                },
                                {
                                    "Vehicle_Population": "8",
                                    "Model_Year": "2000"
                                },
                                {
                                    "Vehicle_Population": "3",
                                    "Model_Year": "1999"
                                },
                                {
                                    "Vehicle_Population": "2",
                                    "Model_Year": "2002"
                                },
                                {
                                    "Vehicle_Population": "1",
                                    "Model_Year": "1998"
                                },
                                {
                                    "Vehicle_Population": "1",
                                    "Model_Year": "1997"
                                },
                                {
                                    "Vehicle_Population": "1",
                                    "Model_Year": "2003"
                                }
                            ]
                        },
                        "text/html": [
                            "<table>",
                            "<tr><th>Vehicle_Population</th><th>Model_Year</th></tr>",
                            "<tr><td>45244</td><td>2023</td></tr>",
                            "<tr><td>27680</td><td>2022</td></tr>",
                            "<tr><td>18737</td><td>2021</td></tr>",
                            "<tr><td>14327</td><td>2018</td></tr>",
                            "<tr><td>11394</td><td>2020</td></tr>",
                            "<tr><td>10729</td><td>2019</td></tr>",
                            "<tr><td>8576</td><td>2017</td></tr>",
                            "<tr><td>5604</td><td>2016</td></tr>",
                            "<tr><td>4897</td><td>2015</td></tr>",
                            "<tr><td>4515</td><td>2013</td></tr>",
                            "<tr><td>3561</td><td>2014</td></tr>",
                            "<tr><td>1714</td><td>2024</td></tr>",
                            "<tr><td>1645</td><td>2012</td></tr>",
                            "<tr><td>780</td><td>2011</td></tr>",
                            "<tr><td>24</td><td>2010</td></tr>",
                            "<tr><td>20</td><td>2008</td></tr>",
                            "<tr><td>8</td><td>2000</td></tr>",
                            "<tr><td>3</td><td>1999</td></tr>",
                            "<tr><td>2</td><td>2002</td></tr>",
                            "<tr><td>1</td><td>1998</td></tr>",
                            "<tr><td>1</td><td>1997</td></tr>",
                            "<tr><td>1</td><td>2003</td></tr>",
                            "</table>"
                        ]
                    }
                }
            ],
            "execution_count": 17
        }
    ]
}